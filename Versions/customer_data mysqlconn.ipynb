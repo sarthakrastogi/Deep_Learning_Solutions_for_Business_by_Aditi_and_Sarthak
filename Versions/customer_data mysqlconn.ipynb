{
 "cells": [
  {
   "cell_type": "code",
   "execution_count": 3,
   "metadata": {},
   "outputs": [
    {
     "name": "stdout",
     "output_type": "stream",
     "text": [
      "Requirement already satisfied: mysql-connector-python in c:\\programdata\\anaconda3\\lib\\site-packages (8.0.21)\n",
      "Requirement already satisfied: protobuf>=3.0.0 in c:\\programdata\\anaconda3\\lib\\site-packages (from mysql-connector-python) (3.12.4)\n",
      "Requirement already satisfied: six>=1.9 in c:\\programdata\\anaconda3\\lib\\site-packages (from protobuf>=3.0.0->mysql-connector-python) (1.12.0)\n",
      "Requirement already satisfied: setuptools in c:\\programdata\\anaconda3\\lib\\site-packages (from protobuf>=3.0.0->mysql-connector-python) (41.4.0)\n",
      "Note: you may need to restart the kernel to use updated packages.\n"
     ]
    }
   ],
   "source": [
    "!pip install mysql-connector-python"
   ]
  },
  {
   "cell_type": "code",
   "execution_count": 4,
   "metadata": {},
   "outputs": [
    {
     "name": "stdout",
     "output_type": "stream",
     "text": [
      "Requirement already satisfied: pymysql in c:\\programdata\\anaconda3\\lib\\site-packages (0.10.0)\n",
      "Note: you may need to restart the kernel to use updated packages.\n"
     ]
    }
   ],
   "source": [
    "!pip install pymysql"
   ]
  },
  {
   "cell_type": "code",
   "execution_count": 9,
   "metadata": {},
   "outputs": [],
   "source": [
    "import mysql.connector\n",
    "from mysql.connector import Error"
   ]
  },
  {
   "cell_type": "code",
   "execution_count": null,
   "metadata": {},
   "outputs": [],
   "source": [
    "conn = mysql.connector.connect(host=\"localhost\", user=\"root\", passwd=\"1234\")\n",
    "mycur=conn.cursor()\n",
    "mycur.execute(\"Create database customer\")\n"
   ]
  },
  {
   "cell_type": "code",
   "execution_count": null,
   "metadata": {},
   "outputs": [],
   "source": [
    "conn = mysql.connector.connect(host=\"localhost\", user=\"root\", passwd=\"1234\", database=\"customer\")\n",
    "mycur=conn.cursor()\n",
    "mycur.execute(\"Create Table customers (custid int AUTO_INCREMENT PRIMARY KEY, custname varchar(40), age int, gender varchar(10), paymthd varchar(20), prod_purchased_prev varchar(40))\")\n"
   ]
  },
  {
   "cell_type": "code",
   "execution_count": null,
   "metadata": {},
   "outputs": [],
   "source": [
    "record=\"Insert into customers (custname, age, gender, paymthd, prod_purchased_prev) values (%d,%s,%d,%s,%s,%s)\"\n",
    "val=[(\"Adil\",25,\"Male\",\"cash\",NULL),\n",
    "    (\"Amaya\",32,\"Female\",\"Credit Card\",\"Shampoo LorealTR5\"),\n",
    "    (\"Bhavini\",23,\"Female\",\"Cash\",NULL),\n",
    "    (\"Bhavy\",45,\"Male\",\"DebitCard\",\"Dessert Boots\"),\n",
    "    (\"Chiya\",22,\"Female\",\"Paytm\",\"Wallclock\"),\n",
    "    (\"Dhyan\",34,\"male\",\"cash\",Null),\n",
    "    (\"Dhruv\",43,\"Male\",\"Paytm\",\"Pedigree\"),\n",
    "    (\"Eshita\",28,\"Female\",\"Debitcard\",\"Women Cycling short\"),\n",
    "    (\"Gourang\",34,\"Male\",\"Cheque\",\"Double Bed\"),\n",
    "    (\"Raj\",68,\"Male\",\"Creditcard\",NULL),\n",
    "    (\"Prarthana\",27,\"Female\",\"Cash\",\"Towel\"),\n",
    "    (\"Tina\",18,\"Female\",\"Paytm\",\"Registers\")]\n",
    "\n",
    "mycur.executemany(sql, val)\n",
    "conn.commit()"
   ]
  }
 ],
 "metadata": {
  "kernelspec": {
   "display_name": "Python 3",
   "language": "python",
   "name": "python3"
  },
  "language_info": {
   "codemirror_mode": {
    "name": "ipython",
    "version": 3
   },
   "file_extension": ".py",
   "mimetype": "text/x-python",
   "name": "python",
   "nbconvert_exporter": "python",
   "pygments_lexer": "ipython3",
   "version": "3.7.4"
  }
 },
 "nbformat": 4,
 "nbformat_minor": 2
}
